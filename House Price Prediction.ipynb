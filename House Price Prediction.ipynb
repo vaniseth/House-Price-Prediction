{
  "nbformat": 4,
  "nbformat_minor": 0,
  "metadata": {
    "colab": {
      "name": "lab 4.ipynb",
      "provenance": []
    },
    "kernelspec": {
      "name": "python3",
      "display_name": "Python 3"
    },
    "language_info": {
      "name": "python"
    }
  },
  "cells": [
    {
      "cell_type": "code",
      "execution_count": 2,
      "metadata": {
        "id": "Mm1dP50O___p"
      },
      "outputs": [],
      "source": [
        "#Q1 Load housing dataset “housing.csv” (find the file on this server) into a variable df\n",
        "import pandas as pd\n",
        "df = pd.read_csv('/content/housing.csv')"
      ]
    },
    {
      "cell_type": "code",
      "source": [
        "#Q2. Display the brief information about this dataset. \n",
        "df.info()"
      ],
      "metadata": {
        "colab": {
          "base_uri": "https://localhost:8080/"
        },
        "id": "wZ0uzVaOASv8",
        "outputId": "afa0ddca-4199-42f1-aaff-36b4481aea93"
      },
      "execution_count": 3,
      "outputs": [
        {
          "output_type": "stream",
          "name": "stdout",
          "text": [
            "<class 'pandas.core.frame.DataFrame'>\n",
            "RangeIndex: 20640 entries, 0 to 20639\n",
            "Data columns (total 10 columns):\n",
            " #   Column              Non-Null Count  Dtype  \n",
            "---  ------              --------------  -----  \n",
            " 0   longitude           20640 non-null  float64\n",
            " 1   latitude            20640 non-null  float64\n",
            " 2   housing_median_age  20640 non-null  float64\n",
            " 3   total_rooms         20640 non-null  float64\n",
            " 4   total_bedrooms      20433 non-null  float64\n",
            " 5   population          20640 non-null  float64\n",
            " 6   households          20640 non-null  float64\n",
            " 7   median_income       20640 non-null  float64\n",
            " 8   median_house_value  20640 non-null  float64\n",
            " 9   ocean_proximity     20640 non-null  object \n",
            "dtypes: float64(9), object(1)\n",
            "memory usage: 1.6+ MB\n"
          ]
        }
      ]
    },
    {
      "cell_type": "code",
      "source": [
        "#Q3 Display number of rows and features available in this dataset.\n",
        "print(df)\n",
        "print(df.shape)"
      ],
      "metadata": {
        "colab": {
          "base_uri": "https://localhost:8080/"
        },
        "id": "tNCGAL6fAUVj",
        "outputId": "f2764dd8-4dc3-4ff4-b650-6ddaa53157e2"
      },
      "execution_count": 4,
      "outputs": [
        {
          "output_type": "stream",
          "name": "stdout",
          "text": [
            "       longitude  latitude  housing_median_age  total_rooms  total_bedrooms  \\\n",
            "0        -122.23     37.88                41.0        880.0           129.0   \n",
            "1        -122.22     37.86                21.0       7099.0          1106.0   \n",
            "2        -122.24     37.85                52.0       1467.0           190.0   \n",
            "3        -122.25     37.85                52.0       1274.0           235.0   \n",
            "4        -122.25     37.85                52.0       1627.0           280.0   \n",
            "...          ...       ...                 ...          ...             ...   \n",
            "20635    -121.09     39.48                25.0       1665.0           374.0   \n",
            "20636    -121.21     39.49                18.0        697.0           150.0   \n",
            "20637    -121.22     39.43                17.0       2254.0           485.0   \n",
            "20638    -121.32     39.43                18.0       1860.0           409.0   \n",
            "20639    -121.24     39.37                16.0       2785.0           616.0   \n",
            "\n",
            "       population  households  median_income  median_house_value  \\\n",
            "0           322.0       126.0         8.3252            452600.0   \n",
            "1          2401.0      1138.0         8.3014            358500.0   \n",
            "2           496.0       177.0         7.2574            352100.0   \n",
            "3           558.0       219.0         5.6431            341300.0   \n",
            "4           565.0       259.0         3.8462            342200.0   \n",
            "...           ...         ...            ...                 ...   \n",
            "20635       845.0       330.0         1.5603             78100.0   \n",
            "20636       356.0       114.0         2.5568             77100.0   \n",
            "20637      1007.0       433.0         1.7000             92300.0   \n",
            "20638       741.0       349.0         1.8672             84700.0   \n",
            "20639      1387.0       530.0         2.3886             89400.0   \n",
            "\n",
            "      ocean_proximity  \n",
            "0            NEAR BAY  \n",
            "1            NEAR BAY  \n",
            "2            NEAR BAY  \n",
            "3            NEAR BAY  \n",
            "4            NEAR BAY  \n",
            "...               ...  \n",
            "20635          INLAND  \n",
            "20636          INLAND  \n",
            "20637          INLAND  \n",
            "20638          INLAND  \n",
            "20639          INLAND  \n",
            "\n",
            "[20640 rows x 10 columns]\n",
            "(20640, 10)\n"
          ]
        }
      ]
    },
    {
      "cell_type": "code",
      "source": [
        "#Q4. Find the target variable.\n",
        "df['median_house_value']"
      ],
      "metadata": {
        "colab": {
          "base_uri": "https://localhost:8080/"
        },
        "id": "haYpceqkAV92",
        "outputId": "c83155c2-74aa-44f6-df51-dc3eb825f5c7"
      },
      "execution_count": 5,
      "outputs": [
        {
          "output_type": "execute_result",
          "data": {
            "text/plain": [
              "0        452600.0\n",
              "1        358500.0\n",
              "2        352100.0\n",
              "3        341300.0\n",
              "4        342200.0\n",
              "           ...   \n",
              "20635     78100.0\n",
              "20636     77100.0\n",
              "20637     92300.0\n",
              "20638     84700.0\n",
              "20639     89400.0\n",
              "Name: median_house_value, Length: 20640, dtype: float64"
            ]
          },
          "metadata": {},
          "execution_count": 5
        }
      ]
    },
    {
      "cell_type": "code",
      "source": [
        "#Q6. Display the summary statistics about all the features of the dataset.\n",
        "df.describe()"
      ],
      "metadata": {
        "colab": {
          "base_uri": "https://localhost:8080/",
          "height": 364
        },
        "id": "fBbO8SNGAYno",
        "outputId": "65badb1d-be1b-41d2-c02b-bee967723a66"
      },
      "execution_count": 6,
      "outputs": [
        {
          "output_type": "execute_result",
          "data": {
            "text/plain": [
              "          longitude      latitude  housing_median_age   total_rooms  \\\n",
              "count  20640.000000  20640.000000        20640.000000  20640.000000   \n",
              "mean    -119.569704     35.631861           28.639486   2635.763081   \n",
              "std        2.003532      2.135952           12.585558   2181.615252   \n",
              "min     -124.350000     32.540000            1.000000      2.000000   \n",
              "25%     -121.800000     33.930000           18.000000   1447.750000   \n",
              "50%     -118.490000     34.260000           29.000000   2127.000000   \n",
              "75%     -118.010000     37.710000           37.000000   3148.000000   \n",
              "max     -114.310000     41.950000           52.000000  39320.000000   \n",
              "\n",
              "       total_bedrooms    population    households  median_income  \\\n",
              "count    20433.000000  20640.000000  20640.000000   20640.000000   \n",
              "mean       537.870553   1425.476744    499.539680       3.870671   \n",
              "std        421.385070   1132.462122    382.329753       1.899822   \n",
              "min          1.000000      3.000000      1.000000       0.499900   \n",
              "25%        296.000000    787.000000    280.000000       2.563400   \n",
              "50%        435.000000   1166.000000    409.000000       3.534800   \n",
              "75%        647.000000   1725.000000    605.000000       4.743250   \n",
              "max       6445.000000  35682.000000   6082.000000      15.000100   \n",
              "\n",
              "       median_house_value  \n",
              "count        20640.000000  \n",
              "mean        206855.816909  \n",
              "std         115395.615874  \n",
              "min          14999.000000  \n",
              "25%         119600.000000  \n",
              "50%         179700.000000  \n",
              "75%         264725.000000  \n",
              "max         500001.000000  "
            ],
            "text/html": [
              "\n",
              "  <div id=\"df-3e6c1f46-fba2-44e2-8eef-c11c2c33b580\">\n",
              "    <div class=\"colab-df-container\">\n",
              "      <div>\n",
              "<style scoped>\n",
              "    .dataframe tbody tr th:only-of-type {\n",
              "        vertical-align: middle;\n",
              "    }\n",
              "\n",
              "    .dataframe tbody tr th {\n",
              "        vertical-align: top;\n",
              "    }\n",
              "\n",
              "    .dataframe thead th {\n",
              "        text-align: right;\n",
              "    }\n",
              "</style>\n",
              "<table border=\"1\" class=\"dataframe\">\n",
              "  <thead>\n",
              "    <tr style=\"text-align: right;\">\n",
              "      <th></th>\n",
              "      <th>longitude</th>\n",
              "      <th>latitude</th>\n",
              "      <th>housing_median_age</th>\n",
              "      <th>total_rooms</th>\n",
              "      <th>total_bedrooms</th>\n",
              "      <th>population</th>\n",
              "      <th>households</th>\n",
              "      <th>median_income</th>\n",
              "      <th>median_house_value</th>\n",
              "    </tr>\n",
              "  </thead>\n",
              "  <tbody>\n",
              "    <tr>\n",
              "      <th>count</th>\n",
              "      <td>20640.000000</td>\n",
              "      <td>20640.000000</td>\n",
              "      <td>20640.000000</td>\n",
              "      <td>20640.000000</td>\n",
              "      <td>20433.000000</td>\n",
              "      <td>20640.000000</td>\n",
              "      <td>20640.000000</td>\n",
              "      <td>20640.000000</td>\n",
              "      <td>20640.000000</td>\n",
              "    </tr>\n",
              "    <tr>\n",
              "      <th>mean</th>\n",
              "      <td>-119.569704</td>\n",
              "      <td>35.631861</td>\n",
              "      <td>28.639486</td>\n",
              "      <td>2635.763081</td>\n",
              "      <td>537.870553</td>\n",
              "      <td>1425.476744</td>\n",
              "      <td>499.539680</td>\n",
              "      <td>3.870671</td>\n",
              "      <td>206855.816909</td>\n",
              "    </tr>\n",
              "    <tr>\n",
              "      <th>std</th>\n",
              "      <td>2.003532</td>\n",
              "      <td>2.135952</td>\n",
              "      <td>12.585558</td>\n",
              "      <td>2181.615252</td>\n",
              "      <td>421.385070</td>\n",
              "      <td>1132.462122</td>\n",
              "      <td>382.329753</td>\n",
              "      <td>1.899822</td>\n",
              "      <td>115395.615874</td>\n",
              "    </tr>\n",
              "    <tr>\n",
              "      <th>min</th>\n",
              "      <td>-124.350000</td>\n",
              "      <td>32.540000</td>\n",
              "      <td>1.000000</td>\n",
              "      <td>2.000000</td>\n",
              "      <td>1.000000</td>\n",
              "      <td>3.000000</td>\n",
              "      <td>1.000000</td>\n",
              "      <td>0.499900</td>\n",
              "      <td>14999.000000</td>\n",
              "    </tr>\n",
              "    <tr>\n",
              "      <th>25%</th>\n",
              "      <td>-121.800000</td>\n",
              "      <td>33.930000</td>\n",
              "      <td>18.000000</td>\n",
              "      <td>1447.750000</td>\n",
              "      <td>296.000000</td>\n",
              "      <td>787.000000</td>\n",
              "      <td>280.000000</td>\n",
              "      <td>2.563400</td>\n",
              "      <td>119600.000000</td>\n",
              "    </tr>\n",
              "    <tr>\n",
              "      <th>50%</th>\n",
              "      <td>-118.490000</td>\n",
              "      <td>34.260000</td>\n",
              "      <td>29.000000</td>\n",
              "      <td>2127.000000</td>\n",
              "      <td>435.000000</td>\n",
              "      <td>1166.000000</td>\n",
              "      <td>409.000000</td>\n",
              "      <td>3.534800</td>\n",
              "      <td>179700.000000</td>\n",
              "    </tr>\n",
              "    <tr>\n",
              "      <th>75%</th>\n",
              "      <td>-118.010000</td>\n",
              "      <td>37.710000</td>\n",
              "      <td>37.000000</td>\n",
              "      <td>3148.000000</td>\n",
              "      <td>647.000000</td>\n",
              "      <td>1725.000000</td>\n",
              "      <td>605.000000</td>\n",
              "      <td>4.743250</td>\n",
              "      <td>264725.000000</td>\n",
              "    </tr>\n",
              "    <tr>\n",
              "      <th>max</th>\n",
              "      <td>-114.310000</td>\n",
              "      <td>41.950000</td>\n",
              "      <td>52.000000</td>\n",
              "      <td>39320.000000</td>\n",
              "      <td>6445.000000</td>\n",
              "      <td>35682.000000</td>\n",
              "      <td>6082.000000</td>\n",
              "      <td>15.000100</td>\n",
              "      <td>500001.000000</td>\n",
              "    </tr>\n",
              "  </tbody>\n",
              "</table>\n",
              "</div>\n",
              "      <button class=\"colab-df-convert\" onclick=\"convertToInteractive('df-3e6c1f46-fba2-44e2-8eef-c11c2c33b580')\"\n",
              "              title=\"Convert this dataframe to an interactive table.\"\n",
              "              style=\"display:none;\">\n",
              "        \n",
              "  <svg xmlns=\"http://www.w3.org/2000/svg\" height=\"24px\"viewBox=\"0 0 24 24\"\n",
              "       width=\"24px\">\n",
              "    <path d=\"M0 0h24v24H0V0z\" fill=\"none\"/>\n",
              "    <path d=\"M18.56 5.44l.94 2.06.94-2.06 2.06-.94-2.06-.94-.94-2.06-.94 2.06-2.06.94zm-11 1L8.5 8.5l.94-2.06 2.06-.94-2.06-.94L8.5 2.5l-.94 2.06-2.06.94zm10 10l.94 2.06.94-2.06 2.06-.94-2.06-.94-.94-2.06-.94 2.06-2.06.94z\"/><path d=\"M17.41 7.96l-1.37-1.37c-.4-.4-.92-.59-1.43-.59-.52 0-1.04.2-1.43.59L10.3 9.45l-7.72 7.72c-.78.78-.78 2.05 0 2.83L4 21.41c.39.39.9.59 1.41.59.51 0 1.02-.2 1.41-.59l7.78-7.78 2.81-2.81c.8-.78.8-2.07 0-2.86zM5.41 20L4 18.59l7.72-7.72 1.47 1.35L5.41 20z\"/>\n",
              "  </svg>\n",
              "      </button>\n",
              "      \n",
              "  <style>\n",
              "    .colab-df-container {\n",
              "      display:flex;\n",
              "      flex-wrap:wrap;\n",
              "      gap: 12px;\n",
              "    }\n",
              "\n",
              "    .colab-df-convert {\n",
              "      background-color: #E8F0FE;\n",
              "      border: none;\n",
              "      border-radius: 50%;\n",
              "      cursor: pointer;\n",
              "      display: none;\n",
              "      fill: #1967D2;\n",
              "      height: 32px;\n",
              "      padding: 0 0 0 0;\n",
              "      width: 32px;\n",
              "    }\n",
              "\n",
              "    .colab-df-convert:hover {\n",
              "      background-color: #E2EBFA;\n",
              "      box-shadow: 0px 1px 2px rgba(60, 64, 67, 0.3), 0px 1px 3px 1px rgba(60, 64, 67, 0.15);\n",
              "      fill: #174EA6;\n",
              "    }\n",
              "\n",
              "    [theme=dark] .colab-df-convert {\n",
              "      background-color: #3B4455;\n",
              "      fill: #D2E3FC;\n",
              "    }\n",
              "\n",
              "    [theme=dark] .colab-df-convert:hover {\n",
              "      background-color: #434B5C;\n",
              "      box-shadow: 0px 1px 3px 1px rgba(0, 0, 0, 0.15);\n",
              "      filter: drop-shadow(0px 1px 2px rgba(0, 0, 0, 0.3));\n",
              "      fill: #FFFFFF;\n",
              "    }\n",
              "  </style>\n",
              "\n",
              "      <script>\n",
              "        const buttonEl =\n",
              "          document.querySelector('#df-3e6c1f46-fba2-44e2-8eef-c11c2c33b580 button.colab-df-convert');\n",
              "        buttonEl.style.display =\n",
              "          google.colab.kernel.accessAllowed ? 'block' : 'none';\n",
              "\n",
              "        async function convertToInteractive(key) {\n",
              "          const element = document.querySelector('#df-3e6c1f46-fba2-44e2-8eef-c11c2c33b580');\n",
              "          const dataTable =\n",
              "            await google.colab.kernel.invokeFunction('convertToInteractive',\n",
              "                                                     [key], {});\n",
              "          if (!dataTable) return;\n",
              "\n",
              "          const docLinkHtml = 'Like what you see? Visit the ' +\n",
              "            '<a target=\"_blank\" href=https://colab.research.google.com/notebooks/data_table.ipynb>data table notebook</a>'\n",
              "            + ' to learn more about interactive tables.';\n",
              "          element.innerHTML = '';\n",
              "          dataTable['output_type'] = 'display_data';\n",
              "          await google.colab.output.renderOutput(dataTable, element);\n",
              "          const docLink = document.createElement('div');\n",
              "          docLink.innerHTML = docLinkHtml;\n",
              "          element.appendChild(docLink);\n",
              "        }\n",
              "      </script>\n",
              "    </div>\n",
              "  </div>\n",
              "  "
            ]
          },
          "metadata": {},
          "execution_count": 6
        }
      ]
    },
    {
      "cell_type": "code",
      "source": [
        "# Q7. Show the histogram plot of each attribute. \n",
        "import matplotlib.pyplot as plt\n",
        "df.hist(bins=50, figsize=(20,25)), plt.show()"
      ],
      "metadata": {
        "colab": {
          "base_uri": "https://localhost:8080/",
          "height": 1000
        },
        "id": "dW_2vwYwAaIi",
        "outputId": "4251537b-141b-45d2-a626-47c0f705e436"
      },
      "execution_count": 7,
      "outputs": [
        {
          "output_type": "display_data",
          "data": {
            "text/plain": [
              "<Figure size 1440x1800 with 9 Axes>"
            ],
            "image/png": "[encoded data removed]"
          },
          "metadata": {
            "needs_background": "light"
          }
        },
        {
          "output_type": "execute_result",
          "data": {
            "text/plain": [
              "(array([[<matplotlib.axes._subplots.AxesSubplot object at 0x7f49a8eef910>,\n",
              "         <matplotlib.axes._subplots.AxesSubplot object at 0x7f49a8e50cd0>,\n",
              "         <matplotlib.axes._subplots.AxesSubplot object at 0x7f49a8e14310>],\n",
              "        [<matplotlib.axes._subplots.AxesSubplot object at 0x7f49a8dc9910>,\n",
              "         <matplotlib.axes._subplots.AxesSubplot object at 0x7f49a8dfff10>,\n",
              "         <matplotlib.axes._subplots.AxesSubplot object at 0x7f49a8d42550>],\n",
              "        [<matplotlib.axes._subplots.AxesSubplot object at 0x7f49a8d77bd0>,\n",
              "         <matplotlib.axes._subplots.AxesSubplot object at 0x7f49a8d3c150>,\n",
              "         <matplotlib.axes._subplots.AxesSubplot object at 0x7f49a8d3c190>]],\n",
              "       dtype=object), None)"
            ]
          },
          "metadata": {},
          "execution_count": 7
        }
      ]
    },
    {
      "cell_type": "code",
      "source": [
        "#Q8. Show if there are any missing/Null values in the dataset\n",
        "df.isnull()"
      ],
      "metadata": {
        "colab": {
          "base_uri": "https://localhost:8080/",
          "height": 488
        },
        "id": "8zhs870PAdVl",
        "outputId": "383bef9e-9139-4355-af23-4391eb2d1637"
      },
      "execution_count": 8,
      "outputs": [
        {
          "output_type": "execute_result",
          "data": {
            "text/plain": [
              "       longitude  latitude  housing_median_age  total_rooms  total_bedrooms  \\\n",
              "0          False     False               False        False           False   \n",
              "1          False     False               False        False           False   \n",
              "2          False     False               False        False           False   \n",
              "3          False     False               False        False           False   \n",
              "4          False     False               False        False           False   \n",
              "...          ...       ...                 ...          ...             ...   \n",
              "20635      False     False               False        False           False   \n",
              "20636      False     False               False        False           False   \n",
              "20637      False     False               False        False           False   \n",
              "20638      False     False               False        False           False   \n",
              "20639      False     False               False        False           False   \n",
              "\n",
              "       population  households  median_income  median_house_value  \\\n",
              "0           False       False          False               False   \n",
              "1           False       False          False               False   \n",
              "2           False       False          False               False   \n",
              "3           False       False          False               False   \n",
              "4           False       False          False               False   \n",
              "...           ...         ...            ...                 ...   \n",
              "20635       False       False          False               False   \n",
              "20636       False       False          False               False   \n",
              "20637       False       False          False               False   \n",
              "20638       False       False          False               False   \n",
              "20639       False       False          False               False   \n",
              "\n",
              "       ocean_proximity  \n",
              "0                False  \n",
              "1                False  \n",
              "2                False  \n",
              "3                False  \n",
              "4                False  \n",
              "...                ...  \n",
              "20635            False  \n",
              "20636            False  \n",
              "20637            False  \n",
              "20638            False  \n",
              "20639            False  \n",
              "\n",
              "[20640 rows x 10 columns]"
            ],
            "text/html": [
              "\n",
              "  <div id=\"df-4525ab13-b102-4136-8ad4-f9589c8c9450\">\n",
              "    <div class=\"colab-df-container\">\n",
              "      <div>\n",
              "<style scoped>\n",
              "    .dataframe tbody tr th:only-of-type {\n",
              "        vertical-align: middle;\n",
              "    }\n",
              "\n",
              "    .dataframe tbody tr th {\n",
              "        vertical-align: top;\n",
              "    }\n",
              "\n",
              "    .dataframe thead th {\n",
              "        text-align: right;\n",
              "    }\n",
              "</style>\n",
              "<table border=\"1\" class=\"dataframe\">\n",
              "  <thead>\n",
              "    <tr style=\"text-align: right;\">\n",
              "      <th></th>\n",
              "      <th>longitude</th>\n",
              "      <th>latitude</th>\n",
              "      <th>housing_median_age</th>\n",
              "      <th>total_rooms</th>\n",
              "      <th>total_bedrooms</th>\n",
              "      <th>population</th>\n",
              "      <th>households</th>\n",
              "      <th>median_income</th>\n",
              "      <th>median_house_value</th>\n",
              "      <th>ocean_proximity</th>\n",
              "    </tr>\n",
              "  </thead>\n",
              "  <tbody>\n",
              "    <tr>\n",
              "      <th>0</th>\n",
              "      <td>False</td>\n",
              "      <td>False</td>\n",
              "      <td>False</td>\n",
              "      <td>False</td>\n",
              "      <td>False</td>\n",
              "      <td>False</td>\n",
              "      <td>False</td>\n",
              "      <td>False</td>\n",
              "      <td>False</td>\n",
              "      <td>False</td>\n",
              "    </tr>\n",
              "    <tr>\n",
              "      <th>1</th>\n",
              "      <td>False</td>\n",
              "      <td>False</td>\n",
              "      <td>False</td>\n",
              "      <td>False</td>\n",
              "      <td>False</td>\n",
              "      <td>False</td>\n",
              "      <td>False</td>\n",
              "      <td>False</td>\n",
              "      <td>False</td>\n",
              "      <td>False</td>\n",
              "    </tr>\n",
              "    <tr>\n",
              "      <th>2</th>\n",
              "      <td>False</td>\n",
              "      <td>False</td>\n",
              "      <td>False</td>\n",
              "      <td>False</td>\n",
              "      <td>False</td>\n",
              "      <td>False</td>\n",
              "      <td>False</td>\n",
              "      <td>False</td>\n",
              "      <td>False</td>\n",
              "      <td>False</td>\n",
              "    </tr>\n",
              "    <tr>\n",
              "      <th>3</th>\n",
              "      <td>False</td>\n",
              "      <td>False</td>\n",
              "      <td>False</td>\n",
              "      <td>False</td>\n",
              "      <td>False</td>\n",
              "      <td>False</td>\n",
              "      <td>False</td>\n",
              "      <td>False</td>\n",
              "      <td>False</td>\n",
              "      <td>False</td>\n",
              "    </tr>\n",
              "    <tr>\n",
              "      <th>4</th>\n",
              "      <td>False</td>\n",
              "      <td>False</td>\n",
              "      <td>False</td>\n",
              "      <td>False</td>\n",
              "      <td>False</td>\n",
              "      <td>False</td>\n",
              "      <td>False</td>\n",
              "      <td>False</td>\n",
              "      <td>False</td>\n",
              "      <td>False</td>\n",
              "    </tr>\n",
              "    <tr>\n",
              "      <th>...</th>\n",
              "      <td>...</td>\n",
              "      <td>...</td>\n",
              "      <td>...</td>\n",
              "      <td>...</td>\n",
              "      <td>...</td>\n",
              "      <td>...</td>\n",
              "      <td>...</td>\n",
              "      <td>...</td>\n",
              "      <td>...</td>\n",
              "      <td>...</td>\n",
              "    </tr>\n",
              "    <tr>\n",
              "      <th>20635</th>\n",
              "      <td>False</td>\n",
              "      <td>False</td>\n",
              "      <td>False</td>\n",
              "      <td>False</td>\n",
              "      <td>False</td>\n",
              "      <td>False</td>\n",
              "      <td>False</td>\n",
              "      <td>False</td>\n",
              "      <td>False</td>\n",
              "      <td>False</td>\n",
              "    </tr>\n",
              "    <tr>\n",
              "      <th>20636</th>\n",
              "      <td>False</td>\n",
              "      <td>False</td>\n",
              "      <td>False</td>\n",
              "      <td>False</td>\n",
              "      <td>False</td>\n",
              "      <td>False</td>\n",
              "      <td>False</td>\n",
              "      <td>False</td>\n",
              "      <td>False</td>\n",
              "      <td>False</td>\n",
              "    </tr>\n",
              "    <tr>\n",
              "      <th>20637</th>\n",
              "      <td>False</td>\n",
              "      <td>False</td>\n",
              "      <td>False</td>\n",
              "      <td>False</td>\n",
              "      <td>False</td>\n",
              "      <td>False</td>\n",
              "      <td>False</td>\n",
              "      <td>False</td>\n",
              "      <td>False</td>\n",
              "      <td>False</td>\n",
              "    </tr>\n",
              "    <tr>\n",
              "      <th>20638</th>\n",
              "      <td>False</td>\n",
              "      <td>False</td>\n",
              "      <td>False</td>\n",
              "      <td>False</td>\n",
              "      <td>False</td>\n",
              "      <td>False</td>\n",
              "      <td>False</td>\n",
              "      <td>False</td>\n",
              "      <td>False</td>\n",
              "      <td>False</td>\n",
              "    </tr>\n",
              "    <tr>\n",
              "      <th>20639</th>\n",
              "      <td>False</td>\n",
              "      <td>False</td>\n",
              "      <td>False</td>\n",
              "      <td>False</td>\n",
              "      <td>False</td>\n",
              "      <td>False</td>\n",
              "      <td>False</td>\n",
              "      <td>False</td>\n",
              "      <td>False</td>\n",
              "      <td>False</td>\n",
              "    </tr>\n",
              "  </tbody>\n",
              "</table>\n",
              "<p>20640 rows × 10 columns</p>\n",
              "</div>\n",
              "      <button class=\"colab-df-convert\" onclick=\"convertToInteractive('df-4525ab13-b102-4136-8ad4-f9589c8c9450')\"\n",
              "              title=\"Convert this dataframe to an interactive table.\"\n",
              "              style=\"display:none;\">\n",
              "        \n",
              "  <svg xmlns=\"http://www.w3.org/2000/svg\" height=\"24px\"viewBox=\"0 0 24 24\"\n",
              "       width=\"24px\">\n",
              "    <path d=\"M0 0h24v24H0V0z\" fill=\"none\"/>\n",
              "    <path d=\"M18.56 5.44l.94 2.06.94-2.06 2.06-.94-2.06-.94-.94-2.06-.94 2.06-2.06.94zm-11 1L8.5 8.5l.94-2.06 2.06-.94-2.06-.94L8.5 2.5l-.94 2.06-2.06.94zm10 10l.94 2.06.94-2.06 2.06-.94-2.06-.94-.94-2.06-.94 2.06-2.06.94z\"/><path d=\"M17.41 7.96l-1.37-1.37c-.4-.4-.92-.59-1.43-.59-.52 0-1.04.2-1.43.59L10.3 9.45l-7.72 7.72c-.78.78-.78 2.05 0 2.83L4 21.41c.39.39.9.59 1.41.59.51 0 1.02-.2 1.41-.59l7.78-7.78 2.81-2.81c.8-.78.8-2.07 0-2.86zM5.41 20L4 18.59l7.72-7.72 1.47 1.35L5.41 20z\"/>\n",
              "  </svg>\n",
              "      </button>\n",
              "      \n",
              "  <style>\n",
              "    .colab-df-container {\n",
              "      display:flex;\n",
              "      flex-wrap:wrap;\n",
              "      gap: 12px;\n",
              "    }\n",
              "\n",
              "    .colab-df-convert {\n",
              "      background-color: #E8F0FE;\n",
              "      border: none;\n",
              "      border-radius: 50%;\n",
              "      cursor: pointer;\n",
              "      display: none;\n",
              "      fill: #1967D2;\n",
              "      height: 32px;\n",
              "      padding: 0 0 0 0;\n",
              "      width: 32px;\n",
              "    }\n",
              "\n",
              "    .colab-df-convert:hover {\n",
              "      background-color: #E2EBFA;\n",
              "      box-shadow: 0px 1px 2px rgba(60, 64, 67, 0.3), 0px 1px 3px 1px rgba(60, 64, 67, 0.15);\n",
              "      fill: #174EA6;\n",
              "    }\n",
              "\n",
              "    [theme=dark] .colab-df-convert {\n",
              "      background-color: #3B4455;\n",
              "      fill: #D2E3FC;\n",
              "    }\n",
              "\n",
              "    [theme=dark] .colab-df-convert:hover {\n",
              "      background-color: #434B5C;\n",
              "      box-shadow: 0px 1px 3px 1px rgba(0, 0, 0, 0.15);\n",
              "      filter: drop-shadow(0px 1px 2px rgba(0, 0, 0, 0.3));\n",
              "      fill: #FFFFFF;\n",
              "    }\n",
              "  </style>\n",
              "\n",
              "      <script>\n",
              "        const buttonEl =\n",
              "          document.querySelector('#df-4525ab13-b102-4136-8ad4-f9589c8c9450 button.colab-df-convert');\n",
              "        buttonEl.style.display =\n",
              "          google.colab.kernel.accessAllowed ? 'block' : 'none';\n",
              "\n",
              "        async function convertToInteractive(key) {\n",
              "          const element = document.querySelector('#df-4525ab13-b102-4136-8ad4-f9589c8c9450');\n",
              "          const dataTable =\n",
              "            await google.colab.kernel.invokeFunction('convertToInteractive',\n",
              "                                                     [key], {});\n",
              "          if (!dataTable) return;\n",
              "\n",
              "          const docLinkHtml = 'Like what you see? Visit the ' +\n",
              "            '<a target=\"_blank\" href=https://colab.research.google.com/notebooks/data_table.ipynb>data table notebook</a>'\n",
              "            + ' to learn more about interactive tables.';\n",
              "          element.innerHTML = '';\n",
              "          dataTable['output_type'] = 'display_data';\n",
              "          await google.colab.output.renderOutput(dataTable, element);\n",
              "          const docLink = document.createElement('div');\n",
              "          docLink.innerHTML = docLinkHtml;\n",
              "          element.appendChild(docLink);\n",
              "        }\n",
              "      </script>\n",
              "    </div>\n",
              "  </div>\n",
              "  "
            ]
          },
          "metadata": {},
          "execution_count": 8
        }
      ]
    },
    {
      "cell_type": "code",
      "source": [
        "df.isnull().sum()"
      ],
      "metadata": {
        "colab": {
          "base_uri": "https://localhost:8080/"
        },
        "id": "AQXw4lLpAfIe",
        "outputId": "f6c842b6-8c9b-4a95-9dbc-99414754246e"
      },
      "execution_count": 9,
      "outputs": [
        {
          "output_type": "execute_result",
          "data": {
            "text/plain": [
              "longitude               0\n",
              "latitude                0\n",
              "housing_median_age      0\n",
              "total_rooms             0\n",
              "total_bedrooms        207\n",
              "population              0\n",
              "households              0\n",
              "median_income           0\n",
              "median_house_value      0\n",
              "ocean_proximity         0\n",
              "dtype: int64"
            ]
          },
          "metadata": {},
          "execution_count": 9
        }
      ]
    },
    {
      "cell_type": "code",
      "source": [
        "#Q9. Show different types of values in categorical attributes along with their frequencies\n",
        "df.value_counts()"
      ],
      "metadata": {
        "colab": {
          "base_uri": "https://localhost:8080/"
        },
        "id": "oW5orsWjAgnD",
        "outputId": "a0444929-00cb-4828-c954-c3e5008dce0e"
      },
      "execution_count": 10,
      "outputs": [
        {
          "output_type": "execute_result",
          "data": {
            "text/plain": [
              "longitude  latitude  housing_median_age  total_rooms  total_bedrooms  population  households  median_income  median_house_value  ocean_proximity\n",
              "-124.35    40.54     52.0                1820.0       300.0           806.0       270.0       3.0147         94600.0             NEAR OCEAN         1\n",
              "-118.19    34.12     35.0                2524.0       749.0           2487.0      679.0       2.4932         167700.0            <1H OCEAN          1\n",
              "           34.13     52.0                2012.0       458.0           1314.0      434.0       3.9250         180400.0            <1H OCEAN          1\n",
              "                     50.0                1309.0       302.0           883.0       293.0       3.1287         198000.0            <1H OCEAN          1\n",
              "           34.12     52.0                679.0        132.0           483.0       163.0       4.2344         162500.0            <1H OCEAN          1\n",
              "                                                                                                                                                   ..\n",
              "-121.20    39.20     16.0                1039.0       182.0           554.0       184.0       2.9688         128300.0            INLAND             1\n",
              "           38.73     11.0                4897.0       636.0           1931.0      616.0       7.7499         334800.0            INLAND             1\n",
              "           38.70     28.0                2970.0       471.0           1379.0      463.0       4.3214         131700.0            INLAND             1\n",
              "           38.69     26.0                3077.0       607.0           1603.0      595.0       2.7174         137500.0            INLAND             1\n",
              "-114.31    34.19     15.0                5612.0       1283.0          1015.0      472.0       1.4936         66900.0             INLAND             1\n",
              "Length: 20433, dtype: int64"
            ]
          },
          "metadata": {},
          "execution_count": 10
        }
      ]
    },
    {
      "cell_type": "code",
      "source": [
        "df._get_numeric_data()"
      ],
      "metadata": {
        "colab": {
          "base_uri": "https://localhost:8080/",
          "height": 488
        },
        "id": "kWGf7G4RAjcR",
        "outputId": "460fc6b7-438f-4a5b-b5a3-779b330548d8"
      },
      "execution_count": 11,
      "outputs": [
        {
          "output_type": "execute_result",
          "data": {
            "text/plain": [
              "       longitude  latitude  housing_median_age  total_rooms  total_bedrooms  \\\n",
              "0        -122.23     37.88                41.0        880.0           129.0   \n",
              "1        -122.22     37.86                21.0       7099.0          1106.0   \n",
              "2        -122.24     37.85                52.0       1467.0           190.0   \n",
              "3        -122.25     37.85                52.0       1274.0           235.0   \n",
              "4        -122.25     37.85                52.0       1627.0           280.0   \n",
              "...          ...       ...                 ...          ...             ...   \n",
              "20635    -121.09     39.48                25.0       1665.0           374.0   \n",
              "20636    -121.21     39.49                18.0        697.0           150.0   \n",
              "20637    -121.22     39.43                17.0       2254.0           485.0   \n",
              "20638    -121.32     39.43                18.0       1860.0           409.0   \n",
              "20639    -121.24     39.37                16.0       2785.0           616.0   \n",
              "\n",
              "       population  households  median_income  median_house_value  \n",
              "0           322.0       126.0         8.3252            452600.0  \n",
              "1          2401.0      1138.0         8.3014            358500.0  \n",
              "2           496.0       177.0         7.2574            352100.0  \n",
              "3           558.0       219.0         5.6431            341300.0  \n",
              "4           565.0       259.0         3.8462            342200.0  \n",
              "...           ...         ...            ...                 ...  \n",
              "20635       845.0       330.0         1.5603             78100.0  \n",
              "20636       356.0       114.0         2.5568             77100.0  \n",
              "20637      1007.0       433.0         1.7000             92300.0  \n",
              "20638       741.0       349.0         1.8672             84700.0  \n",
              "20639      1387.0       530.0         2.3886             89400.0  \n",
              "\n",
              "[20640 rows x 9 columns]"
            ],
            "text/html": [
              "\n",
              "  <div id=\"df-a2c5b13c-c777-4d55-816f-228c7f303662\">\n",
              "    <div class=\"colab-df-container\">\n",
              "      <div>\n",
              "<style scoped>\n",
              "    .dataframe tbody tr th:only-of-type {\n",
              "        vertical-align: middle;\n",
              "    }\n",
              "\n",
              "    .dataframe tbody tr th {\n",
              "        vertical-align: top;\n",
              "    }\n",
              "\n",
              "    .dataframe thead th {\n",
              "        text-align: right;\n",
              "    }\n",
              "</style>\n",
              "<table border=\"1\" class=\"dataframe\">\n",
              "  <thead>\n",
              "    <tr style=\"text-align: right;\">\n",
              "      <th></th>\n",
              "      <th>longitude</th>\n",
              "      <th>latitude</th>\n",
              "      <th>housing_median_age</th>\n",
              "      <th>total_rooms</th>\n",
              "      <th>total_bedrooms</th>\n",
              "      <th>population</th>\n",
              "      <th>households</th>\n",
              "      <th>median_income</th>\n",
              "      <th>median_house_value</th>\n",
              "    </tr>\n",
              "  </thead>\n",
              "  <tbody>\n",
              "    <tr>\n",
              "      <th>0</th>\n",
              "      <td>-122.23</td>\n",
              "      <td>37.88</td>\n",
              "      <td>41.0</td>\n",
              "      <td>880.0</td>\n",
              "      <td>129.0</td>\n",
              "      <td>322.0</td>\n",
              "      <td>126.0</td>\n",
              "      <td>8.3252</td>\n",
              "      <td>452600.0</td>\n",
              "    </tr>\n",
              "    <tr>\n",
              "      <th>1</th>\n",
              "      <td>-122.22</td>\n",
              "      <td>37.86</td>\n",
              "      <td>21.0</td>\n",
              "      <td>7099.0</td>\n",
              "      <td>1106.0</td>\n",
              "      <td>2401.0</td>\n",
              "      <td>1138.0</td>\n",
              "      <td>8.3014</td>\n",
              "      <td>358500.0</td>\n",
              "    </tr>\n",
              "    <tr>\n",
              "      <th>2</th>\n",
              "      <td>-122.24</td>\n",
              "      <td>37.85</td>\n",
              "      <td>52.0</td>\n",
              "      <td>1467.0</td>\n",
              "      <td>190.0</td>\n",
              "      <td>496.0</td>\n",
              "      <td>177.0</td>\n",
              "      <td>7.2574</td>\n",
              "      <td>352100.0</td>\n",
              "    </tr>\n",
              "    <tr>\n",
              "      <th>3</th>\n",
              "      <td>-122.25</td>\n",
              "      <td>37.85</td>\n",
              "      <td>52.0</td>\n",
              "      <td>1274.0</td>\n",
              "      <td>235.0</td>\n",
              "      <td>558.0</td>\n",
              "      <td>219.0</td>\n",
              "      <td>5.6431</td>\n",
              "      <td>341300.0</td>\n",
              "    </tr>\n",
              "    <tr>\n",
              "      <th>4</th>\n",
              "      <td>-122.25</td>\n",
              "      <td>37.85</td>\n",
              "      <td>52.0</td>\n",
              "      <td>1627.0</td>\n",
              "      <td>280.0</td>\n",
              "      <td>565.0</td>\n",
              "      <td>259.0</td>\n",
              "      <td>3.8462</td>\n",
              "      <td>342200.0</td>\n",
              "    </tr>\n",
              "    <tr>\n",
              "      <th>...</th>\n",
              "      <td>...</td>\n",
              "      <td>...</td>\n",
              "      <td>...</td>\n",
              "      <td>...</td>\n",
              "      <td>...</td>\n",
              "      <td>...</td>\n",
              "      <td>...</td>\n",
              "      <td>...</td>\n",
              "      <td>...</td>\n",
              "    </tr>\n",
              "    <tr>\n",
              "      <th>20635</th>\n",
              "      <td>-121.09</td>\n",
              "      <td>39.48</td>\n",
              "      <td>25.0</td>\n",
              "      <td>1665.0</td>\n",
              "      <td>374.0</td>\n",
              "      <td>845.0</td>\n",
              "      <td>330.0</td>\n",
              "      <td>1.5603</td>\n",
              "      <td>78100.0</td>\n",
              "    </tr>\n",
              "    <tr>\n",
              "      <th>20636</th>\n",
              "      <td>-121.21</td>\n",
              "      <td>39.49</td>\n",
              "      <td>18.0</td>\n",
              "      <td>697.0</td>\n",
              "      <td>150.0</td>\n",
              "      <td>356.0</td>\n",
              "      <td>114.0</td>\n",
              "      <td>2.5568</td>\n",
              "      <td>77100.0</td>\n",
              "    </tr>\n",
              "    <tr>\n",
              "      <th>20637</th>\n",
              "      <td>-121.22</td>\n",
              "      <td>39.43</td>\n",
              "      <td>17.0</td>\n",
              "      <td>2254.0</td>\n",
              "      <td>485.0</td>\n",
              "      <td>1007.0</td>\n",
              "      <td>433.0</td>\n",
              "      <td>1.7000</td>\n",
              "      <td>92300.0</td>\n",
              "    </tr>\n",
              "    <tr>\n",
              "      <th>20638</th>\n",
              "      <td>-121.32</td>\n",
              "      <td>39.43</td>\n",
              "      <td>18.0</td>\n",
              "      <td>1860.0</td>\n",
              "      <td>409.0</td>\n",
              "      <td>741.0</td>\n",
              "      <td>349.0</td>\n",
              "      <td>1.8672</td>\n",
              "      <td>84700.0</td>\n",
              "    </tr>\n",
              "    <tr>\n",
              "      <th>20639</th>\n",
              "      <td>-121.24</td>\n",
              "      <td>39.37</td>\n",
              "      <td>16.0</td>\n",
              "      <td>2785.0</td>\n",
              "      <td>616.0</td>\n",
              "      <td>1387.0</td>\n",
              "      <td>530.0</td>\n",
              "      <td>2.3886</td>\n",
              "      <td>89400.0</td>\n",
              "    </tr>\n",
              "  </tbody>\n",
              "</table>\n",
              "<p>20640 rows × 9 columns</p>\n",
              "</div>\n",
              "      <button class=\"colab-df-convert\" onclick=\"convertToInteractive('df-a2c5b13c-c777-4d55-816f-228c7f303662')\"\n",
              "              title=\"Convert this dataframe to an interactive table.\"\n",
              "              style=\"display:none;\">\n",
              "        \n",
              "  <svg xmlns=\"http://www.w3.org/2000/svg\" height=\"24px\"viewBox=\"0 0 24 24\"\n",
              "       width=\"24px\">\n",
              "    <path d=\"M0 0h24v24H0V0z\" fill=\"none\"/>\n",
              "    <path d=\"M18.56 5.44l.94 2.06.94-2.06 2.06-.94-2.06-.94-.94-2.06-.94 2.06-2.06.94zm-11 1L8.5 8.5l.94-2.06 2.06-.94-2.06-.94L8.5 2.5l-.94 2.06-2.06.94zm10 10l.94 2.06.94-2.06 2.06-.94-2.06-.94-.94-2.06-.94 2.06-2.06.94z\"/><path d=\"M17.41 7.96l-1.37-1.37c-.4-.4-.92-.59-1.43-.59-.52 0-1.04.2-1.43.59L10.3 9.45l-7.72 7.72c-.78.78-.78 2.05 0 2.83L4 21.41c.39.39.9.59 1.41.59.51 0 1.02-.2 1.41-.59l7.78-7.78 2.81-2.81c.8-.78.8-2.07 0-2.86zM5.41 20L4 18.59l7.72-7.72 1.47 1.35L5.41 20z\"/>\n",
              "  </svg>\n",
              "      </button>\n",
              "      \n",
              "  <style>\n",
              "    .colab-df-container {\n",
              "      display:flex;\n",
              "      flex-wrap:wrap;\n",
              "      gap: 12px;\n",
              "    }\n",
              "\n",
              "    .colab-df-convert {\n",
              "      background-color: #E8F0FE;\n",
              "      border: none;\n",
              "      border-radius: 50%;\n",
              "      cursor: pointer;\n",
              "      display: none;\n",
              "      fill: #1967D2;\n",
              "      height: 32px;\n",
              "      padding: 0 0 0 0;\n",
              "      width: 32px;\n",
              "    }\n",
              "\n",
              "    .colab-df-convert:hover {\n",
              "      background-color: #E2EBFA;\n",
              "      box-shadow: 0px 1px 2px rgba(60, 64, 67, 0.3), 0px 1px 3px 1px rgba(60, 64, 67, 0.15);\n",
              "      fill: #174EA6;\n",
              "    }\n",
              "\n",
              "    [theme=dark] .colab-df-convert {\n",
              "      background-color: #3B4455;\n",
              "      fill: #D2E3FC;\n",
              "    }\n",
              "\n",
              "    [theme=dark] .colab-df-convert:hover {\n",
              "      background-color: #434B5C;\n",
              "      box-shadow: 0px 1px 3px 1px rgba(0, 0, 0, 0.15);\n",
              "      filter: drop-shadow(0px 1px 2px rgba(0, 0, 0, 0.3));\n",
              "      fill: #FFFFFF;\n",
              "    }\n",
              "  </style>\n",
              "\n",
              "      <script>\n",
              "        const buttonEl =\n",
              "          document.querySelector('#df-a2c5b13c-c777-4d55-816f-228c7f303662 button.colab-df-convert');\n",
              "        buttonEl.style.display =\n",
              "          google.colab.kernel.accessAllowed ? 'block' : 'none';\n",
              "\n",
              "        async function convertToInteractive(key) {\n",
              "          const element = document.querySelector('#df-a2c5b13c-c777-4d55-816f-228c7f303662');\n",
              "          const dataTable =\n",
              "            await google.colab.kernel.invokeFunction('convertToInteractive',\n",
              "                                                     [key], {});\n",
              "          if (!dataTable) return;\n",
              "\n",
              "          const docLinkHtml = 'Like what you see? Visit the ' +\n",
              "            '<a target=\"_blank\" href=https://colab.research.google.com/notebooks/data_table.ipynb>data table notebook</a>'\n",
              "            + ' to learn more about interactive tables.';\n",
              "          element.innerHTML = '';\n",
              "          dataTable['output_type'] = 'display_data';\n",
              "          await google.colab.output.renderOutput(dataTable, element);\n",
              "          const docLink = document.createElement('div');\n",
              "          docLink.innerHTML = docLinkHtml;\n",
              "          element.appendChild(docLink);\n",
              "        }\n",
              "      </script>\n",
              "    </div>\n",
              "  </div>\n",
              "  "
            ]
          },
          "metadata": {},
          "execution_count": 11
        }
      ]
    },
    {
      "cell_type": "code",
      "source": [
        "#Q10. Fill the missing values with most frequently used value for categorical attribute and for \n",
        "# numerical attribute fill median value. \n",
        "df.median()"
      ],
      "metadata": {
        "colab": {
          "base_uri": "https://localhost:8080/"
        },
        "id": "ETJ-SwBfAlBv",
        "outputId": "af7582d7-070e-407a-ac9c-2ad4e1f3a630"
      },
      "execution_count": 12,
      "outputs": [
        {
          "output_type": "stream",
          "name": "stderr",
          "text": [
            "/usr/local/lib/python3.7/dist-packages/ipykernel_launcher.py:3: FutureWarning: Dropping of nuisance columns in DataFrame reductions (with 'numeric_only=None') is deprecated; in a future version this will raise TypeError.  Select only valid columns before calling the reduction.\n",
            "  This is separate from the ipykernel package so we can avoid doing imports until\n"
          ]
        },
        {
          "output_type": "execute_result",
          "data": {
            "text/plain": [
              "longitude               -118.4900\n",
              "latitude                  34.2600\n",
              "housing_median_age        29.0000\n",
              "total_rooms             2127.0000\n",
              "total_bedrooms           435.0000\n",
              "population              1166.0000\n",
              "households               409.0000\n",
              "median_income              3.5348\n",
              "median_house_value    179700.0000\n",
              "dtype: float64"
            ]
          },
          "metadata": {},
          "execution_count": 12
        }
      ]
    },
    {
      "cell_type": "code",
      "source": [
        "df['total_bedrooms'].fillna(df['total_bedrooms'].median(), inplace = True)"
      ],
      "metadata": {
        "id": "6bfaXLz-AnAJ"
      },
      "execution_count": 13,
      "outputs": []
    },
    {
      "cell_type": "code",
      "source": [
        "df['total_bedrooms']"
      ],
      "metadata": {
        "colab": {
          "base_uri": "https://localhost:8080/"
        },
        "id": "BDVGDf6kAo7J",
        "outputId": "71a2094f-6626-4e91-c42a-5ebc47ad67c3"
      },
      "execution_count": 14,
      "outputs": [
        {
          "output_type": "execute_result",
          "data": {
            "text/plain": [
              "0         129.0\n",
              "1        1106.0\n",
              "2         190.0\n",
              "3         235.0\n",
              "4         280.0\n",
              "          ...  \n",
              "20635     374.0\n",
              "20636     150.0\n",
              "20637     485.0\n",
              "20638     409.0\n",
              "20639     616.0\n",
              "Name: total_bedrooms, Length: 20640, dtype: float64"
            ]
          },
          "metadata": {},
          "execution_count": 14
        }
      ]
    },
    {
      "cell_type": "code",
      "source": [
        "#Q11. Display sum of missing values after filling the values\n",
        "df.isna().sum()"
      ],
      "metadata": {
        "colab": {
          "base_uri": "https://localhost:8080/"
        },
        "id": "7dCdDFE4AqSv",
        "outputId": "1e0fe640-87b7-4b53-a419-e46ee5ce7002"
      },
      "execution_count": 15,
      "outputs": [
        {
          "output_type": "execute_result",
          "data": {
            "text/plain": [
              "longitude             0\n",
              "latitude              0\n",
              "housing_median_age    0\n",
              "total_rooms           0\n",
              "total_bedrooms        0\n",
              "population            0\n",
              "households            0\n",
              "median_income         0\n",
              "median_house_value    0\n",
              "ocean_proximity       0\n",
              "dtype: int64"
            ]
          },
          "metadata": {},
          "execution_count": 15
        }
      ]
    },
    {
      "cell_type": "code",
      "source": [
        "#Q12 Transform “median_income” attribute into a new attribute “income_cat” which has 5 levels \n",
        "# (1,2,3,4,5) ranging from 0-1.5, 1.5-3.0, 3.0-4.5, 4.5-6.0, 6.0-np.inf respectively.\n",
        "import numpy as np\n",
        "df['income_cat']=pd.cut(df[\"median_income\"], bins=[0., 1.5, 3.0, 4.5, 6., np.inf], labels=[1, 2, 3, 4, 5])"
      ],
      "metadata": {
        "id": "K9VOB993AtU3"
      },
      "execution_count": 16,
      "outputs": []
    },
    {
      "cell_type": "code",
      "source": [
        "df['income_cat']"
      ],
      "metadata": {
        "colab": {
          "base_uri": "https://localhost:8080/"
        },
        "id": "p6oX6KYsAw7Z",
        "outputId": "5f081284-6454-4e61-98d4-5c392df1b280"
      },
      "execution_count": 17,
      "outputs": [
        {
          "output_type": "execute_result",
          "data": {
            "text/plain": [
              "0        5\n",
              "1        5\n",
              "2        5\n",
              "3        4\n",
              "4        3\n",
              "        ..\n",
              "20635    2\n",
              "20636    2\n",
              "20637    2\n",
              "20638    2\n",
              "20639    2\n",
              "Name: income_cat, Length: 20640, dtype: category\n",
              "Categories (5, int64): [1 < 2 < 3 < 4 < 5]"
            ]
          },
          "metadata": {},
          "execution_count": 17
        }
      ]
    },
    {
      "cell_type": "code",
      "source": [
        "#Q13 Find the distribution based on income_cat in the entire dataset.\n",
        "df['income_cat'].value_counts()/len(df)"
      ],
      "metadata": {
        "colab": {
          "base_uri": "https://localhost:8080/"
        },
        "id": "ALt8Wk6oAySa",
        "outputId": "2bd35670-cd78-46b2-c301-a4ed56e5b884"
      },
      "execution_count": 18,
      "outputs": [
        {
          "output_type": "execute_result",
          "data": {
            "text/plain": [
              "3    0.350581\n",
              "2    0.318847\n",
              "4    0.176308\n",
              "5    0.114438\n",
              "1    0.039826\n",
              "Name: income_cat, dtype: float64"
            ]
          },
          "metadata": {},
          "execution_count": 18
        }
      ]
    },
    {
      "cell_type": "code",
      "source": [
        "#Q14. Plot histogram of “income_cat” attributes. \n",
        "df['income_cat'].hist()"
      ],
      "metadata": {
        "colab": {
          "base_uri": "https://localhost:8080/",
          "height": 282
        },
        "id": "-HzG_zXEA0ER",
        "outputId": "fb8d55a0-05da-4ddd-9a53-4681d543a707"
      },
      "execution_count": 19,
      "outputs": [
        {
          "output_type": "execute_result",
          "data": {
            "text/plain": [
              "<matplotlib.axes._subplots.AxesSubplot at 0x7f49b52d6a50>"
            ]
          },
          "metadata": {},
          "execution_count": 19
        },
        {
          "output_type": "display_data",
          "data": {
            "text/plain": [
              "<Figure size 432x288 with 1 Axes>"
            ],
            "image/png": "[encoded data removed]"
          },
          "metadata": {
            "needs_background": "light"
          }
        }
      ]
    },
    {
      "cell_type": "code",
      "source": [
        "#Q15. Split the dataset 80% of rows for training, and 20% of rows for testing purpose. Just for the sake \n",
        "# of learning take first 80% rows as training and, rest 20% rows as testing respectively. Store these \n",
        "# train and test datasets in temp_train and temp_test variables.\n",
        "\n",
        "def split_train_test(data, test_ratio):\n",
        "  np.random.seed(42)                                  #using seed so that we get the same shuffled indices everytime\n",
        "  shuffled_indices = np.random.permutation(len(data))\n",
        "  test_set_size = int(len(data) * test_ratio)\n",
        "  test_indices = shuffled_indices[:test_set_size]\n",
        "  train_indices = shuffled_indices[test_set_size:]\n",
        "  return data.iloc[train_indices], data.iloc[test_indices]\n",
        "temp_train, temp_test = split_train_test(df,0.2)"
      ],
      "metadata": {
        "id": "hYStq9mxA1rN"
      },
      "execution_count": 20,
      "outputs": []
    },
    {
      "cell_type": "code",
      "source": [
        "print(len(temp_train), \"train +\", len(temp_test), \"test\")"
      ],
      "metadata": {
        "colab": {
          "base_uri": "https://localhost:8080/"
        },
        "id": "UsPbrTIDA3Ny",
        "outputId": "41ed3407-7716-437d-9ca5-b26de106973f"
      },
      "execution_count": 21,
      "outputs": [
        {
          "output_type": "stream",
          "name": "stdout",
          "text": [
            "16512 train + 4128 test\n"
          ]
        }
      ]
    },
    {
      "cell_type": "code",
      "source": [
        "# Q16. Check the distribution based on “income_cat” in train and test set that you obtained in above\n",
        "# step.\n",
        "print(df['income_cat'].value_counts()/len(temp_train))\n",
        "print(df['income_cat'].value_counts()/len(temp_test))"
      ],
      "metadata": {
        "colab": {
          "base_uri": "https://localhost:8080/"
        },
        "id": "9kMUIHhgA4eS",
        "outputId": "1fe9edec-e535-4d9c-a05d-a1155b59d34a"
      },
      "execution_count": 22,
      "outputs": [
        {
          "output_type": "stream",
          "name": "stdout",
          "text": [
            "3    0.438227\n",
            "2    0.398559\n",
            "4    0.220385\n",
            "5    0.143047\n",
            "1    0.049782\n",
            "Name: income_cat, dtype: float64\n",
            "3    1.752907\n",
            "2    1.594234\n",
            "4    0.881541\n",
            "5    0.572190\n",
            "1    0.199128\n",
            "Name: income_cat, dtype: float64\n"
          ]
        }
      ]
    },
    {
      "cell_type": "code",
      "source": [
        "# Q17. Reshufle the dataset to have stratified distribution of ‘income_cat’ and then split it into train\n",
        "# and test. Use following function.\n",
        "from sklearn.model_selection import StratifiedShuffleSplit\n",
        "split = StratifiedShuffleSplit(n_splits=1, test_size=0.2, random_state=42)\n",
        "for train_index, test_index in split.split(df, df['income_cat']):\n",
        "  train = df.loc[train_index]\n",
        "  test = df.loc[test_index]"
      ],
      "metadata": {
        "id": "TMvWZMNWA6ME"
      },
      "execution_count": 23,
      "outputs": []
    },
    {
      "cell_type": "code",
      "source": [
        "#Q18. Check again the distribution based on “income_cat” in train and test set.\n",
        "print(df['income_cat'].value_counts()/len(temp_train))\n",
        "print(df['income_cat'].value_counts()/len(temp_test))"
      ],
      "metadata": {
        "colab": {
          "base_uri": "https://localhost:8080/"
        },
        "id": "_Mqq53HEA7uL",
        "outputId": "2c5633c0-1332-4fe4-ac62-20b059fe25b0"
      },
      "execution_count": 24,
      "outputs": [
        {
          "output_type": "stream",
          "name": "stdout",
          "text": [
            "3    0.438227\n",
            "2    0.398559\n",
            "4    0.220385\n",
            "5    0.143047\n",
            "1    0.049782\n",
            "Name: income_cat, dtype: float64\n",
            "3    1.752907\n",
            "2    1.594234\n",
            "4    0.881541\n",
            "5    0.572190\n",
            "1    0.199128\n",
            "Name: income_cat, dtype: float64\n"
          ]
        }
      ]
    },
    {
      "cell_type": "code",
      "source": [
        "# Q19. Find correlation of target attribute with rest of the attributes. Use correlation=df.corr()\n",
        "# correlation[\"attribute name\"].sort_values()\n",
        "correlation = df.corr()\n",
        "correlation['median_house_value'].sort_values()"
      ],
      "metadata": {
        "colab": {
          "base_uri": "https://localhost:8080/"
        },
        "id": "tsSW6cCUA96y",
        "outputId": "730873c3-f47d-49d7-90bf-0d65eeebf227"
      },
      "execution_count": 25,
      "outputs": [
        {
          "output_type": "execute_result",
          "data": {
            "text/plain": [
              "latitude             -0.144160\n",
              "longitude            -0.045967\n",
              "population           -0.024650\n",
              "total_bedrooms        0.049457\n",
              "households            0.065843\n",
              "housing_median_age    0.105623\n",
              "total_rooms           0.134153\n",
              "median_income         0.688075\n",
              "median_house_value    1.000000\n",
              "Name: median_house_value, dtype: float64"
            ]
          },
          "metadata": {},
          "execution_count": 25
        }
      ]
    },
    {
      "cell_type": "code",
      "source": [
        "df.info()"
      ],
      "metadata": {
        "colab": {
          "base_uri": "https://localhost:8080/"
        },
        "id": "oi_eReq1A_Um",
        "outputId": "5da7847d-3815-4536-8bb9-6c644f6b9245"
      },
      "execution_count": 26,
      "outputs": [
        {
          "output_type": "stream",
          "name": "stdout",
          "text": [
            "<class 'pandas.core.frame.DataFrame'>\n",
            "RangeIndex: 20640 entries, 0 to 20639\n",
            "Data columns (total 11 columns):\n",
            " #   Column              Non-Null Count  Dtype   \n",
            "---  ------              --------------  -----   \n",
            " 0   longitude           20640 non-null  float64 \n",
            " 1   latitude            20640 non-null  float64 \n",
            " 2   housing_median_age  20640 non-null  float64 \n",
            " 3   total_rooms         20640 non-null  float64 \n",
            " 4   total_bedrooms      20640 non-null  float64 \n",
            " 5   population          20640 non-null  float64 \n",
            " 6   households          20640 non-null  float64 \n",
            " 7   median_income       20640 non-null  float64 \n",
            " 8   median_house_value  20640 non-null  float64 \n",
            " 9   ocean_proximity     20640 non-null  object  \n",
            " 10  income_cat          20640 non-null  category\n",
            "dtypes: category(1), float64(9), object(1)\n",
            "memory usage: 1.6+ MB\n"
          ]
        }
      ]
    },
    {
      "cell_type": "code",
      "source": [
        "# Q20. Convert categorical attribute to numeric using ordinal encoder.\n",
        "from sklearn.preprocessing import OrdinalEncoder\n",
        "oe = OrdinalEncoder()\n",
        "df_cat_oe = oe.fit_transform(df[[\"ocean_proximity\"]])"
      ],
      "metadata": {
        "id": "jJMQgC17BBft"
      },
      "execution_count": 27,
      "outputs": []
    },
    {
      "cell_type": "code",
      "source": [
        "# Q21. Add the new attribute that you have transformed into numeric into dataset df.\n",
        "df['num_ocean_proximity'] = df_cat_oe\n",
        "df['num_ocean_proximity']"
      ],
      "metadata": {
        "colab": {
          "base_uri": "https://localhost:8080/"
        },
        "id": "X1lR6gENBD0e",
        "outputId": "529bfa5d-ed0f-4889-ff09-49046b0bc535"
      },
      "execution_count": 28,
      "outputs": [
        {
          "output_type": "execute_result",
          "data": {
            "text/plain": [
              "0        3.0\n",
              "1        3.0\n",
              "2        3.0\n",
              "3        3.0\n",
              "4        3.0\n",
              "        ... \n",
              "20635    1.0\n",
              "20636    1.0\n",
              "20637    1.0\n",
              "20638    1.0\n",
              "20639    1.0\n",
              "Name: num_ocean_proximity, Length: 20640, dtype: float64"
            ]
          },
          "metadata": {},
          "execution_count": 28
        }
      ]
    },
    {
      "cell_type": "code",
      "source": [
        "# Q22. Drop the attribute which has categorical values from the dataset.\n",
        "df.drop(['ocean_proximity'], axis=1, inplace=True)\n",
        "print(df.columns)"
      ],
      "metadata": {
        "colab": {
          "base_uri": "https://localhost:8080/"
        },
        "id": "Fm6_KSF5BFjt",
        "outputId": "6bffa624-537d-4cb3-ebf5-6b999932b52d"
      },
      "execution_count": 29,
      "outputs": [
        {
          "output_type": "stream",
          "name": "stdout",
          "text": [
            "Index(['longitude', 'latitude', 'housing_median_age', 'total_rooms',\n",
            "       'total_bedrooms', 'population', 'households', 'median_income',\n",
            "       'median_house_value', 'income_cat', 'num_ocean_proximity'],\n",
            "      dtype='object')\n"
          ]
        }
      ]
    },
    {
      "cell_type": "code",
      "source": [
        "# Q23. Split the dataset.\n",
        "from sklearn.model_selection import train_test_split\n",
        "train_set, test_set = train_test_split(df, test_size=0.2, random_state=42)"
      ],
      "metadata": {
        "id": "_xUVbSmSBLr7"
      },
      "execution_count": 76,
      "outputs": []
    },
    {
      "cell_type": "code",
      "source": [
        "# Q24. Separate the target attribute and rest of the attributes from train_set and test_set and store\n",
        "# them as train_target, and test_target in two separate variables.\n",
        "train_target = train_set['median_house_value'].copy()\n",
        "test_target = test_set['median_house_value'].copy()\n",
        "train_set.drop(['median_house_value'], axis=1, inplace=True)\n",
        "test_set.drop(['median_house_value'], axis=1, inplace=True)"
      ],
      "metadata": {
        "id": "-yMSpqZhBOXO"
      },
      "execution_count": 77,
      "outputs": []
    },
    {
      "cell_type": "code",
      "source": [
        "# Q25. Take a linear regression mode and train it.\n",
        "from sklearn.linear_model import LinearRegression\n",
        "reg = LinearRegression()"
      ],
      "metadata": {
        "id": "WoifOzjzBQS5"
      },
      "execution_count": 78,
      "outputs": []
    },
    {
      "cell_type": "code",
      "source": [
        "#26\n",
        "reg.fit(train_set, train_target)"
      ],
      "metadata": {
        "colab": {
          "base_uri": "https://localhost:8080/"
        },
        "id": "pFIrQ9JEBSVJ",
        "outputId": "30980155-a3b1-43b6-96d6-3502e37d1316"
      },
      "execution_count": 79,
      "outputs": [
        {
          "output_type": "execute_result",
          "data": {
            "text/plain": [
              "LinearRegression()"
            ]
          },
          "metadata": {},
          "execution_count": 79
        }
      ]
    },
    {
      "cell_type": "code",
      "source": [
        "# Q27. Predict few values from the dataset. Use predict method and pass some rows from dataset.\n",
        "pred = test_set.iloc[:10]\n",
        "actual = test_target.iloc[:10]\n",
        "print(\"Predicted Values:\", reg.predict(pred))\n",
        "print(\"Actual Values:\", list(actual))"
      ],
      "metadata": {
        "colab": {
          "base_uri": "https://localhost:8080/"
        },
        "id": "36QceyKEBTsu",
        "outputId": "03002056-9f0b-4b97-9074-35b399be9c09"
      },
      "execution_count": 80,
      "outputs": [
        {
          "output_type": "stream",
          "name": "stdout",
          "text": [
            "Predicted Values: [ 65988.37324393 147044.23392744 250331.88443331 262755.10950724\n",
            " 266007.46778086 157760.5001111  294633.53155736 226772.97119188\n",
            " 261289.8534775  405380.54628698]\n",
            "Actual Values: [47700.0, 45800.0, 500001.0, 218600.0, 278000.0, 158700.0, 198200.0, 157500.0, 340000.0, 446600.0]\n"
          ]
        }
      ]
    },
    {
      "cell_type": "code",
      "source": [
        "# Q28. Compute performance of the model.\n",
        "from sklearn.metrics import mean_squared_error\n",
        "prediction = reg.predict(pred)\n",
        "mse = mean_squared_error(actual,prediction)\n",
        "performance = np.sqrt(mse)\n",
        "print(performance)"
      ],
      "metadata": {
        "colab": {
          "base_uri": "https://localhost:8080/"
        },
        "id": "HkZxavroBVlY",
        "outputId": "1cc3f460-90a7-4de4-ff4e-eab6a72ce021"
      },
      "execution_count": 81,
      "outputs": [
        {
          "output_type": "stream",
          "name": "stdout",
          "text": [
            "98491.82962477175\n"
          ]
        }
      ]
    },
    {
      "cell_type": "code",
      "source": [
        "# Q29. Repeat from 23 to 28 by changing the training set size to 70%, 60%, 50%,40%,30%, and 20% in\n",
        "# each attempt. Compare the difference in performance."
      ],
      "metadata": {
        "id": "puRHlq-nCUW2"
      },
      "execution_count": 36,
      "outputs": []
    },
    {
      "cell_type": "markdown",
      "source": [
        "Training set size = 70%   Testing set size = 30%"
      ],
      "metadata": {
        "id": "CUWpdxWA5fcP"
      }
    },
    {
      "cell_type": "code",
      "source": [
        "from sklearn.model_selection import train_test_split\n",
        "train_set, test_set = train_test_split(df, test_size=0.3, random_state=42) #random state is used to get the same shuffled indices erverytime "
      ],
      "metadata": {
        "id": "-M9uhU1U5oSO"
      },
      "execution_count": 82,
      "outputs": []
    },
    {
      "cell_type": "code",
      "source": [
        "train_target = train_set['median_house_value'].copy()\n",
        "test_target = test_set['median_house_value'].copy()\n",
        "train_set.drop(['median_house_value'], axis=1, inplace=True)\n",
        "test_set.drop(['median_house_value'], axis=1, inplace=True)"
      ],
      "metadata": {
        "id": "XHqDZmIE6Ujn"
      },
      "execution_count": 83,
      "outputs": []
    },
    {
      "cell_type": "code",
      "source": [
        "from sklearn.linear_model import LinearRegression\n",
        "reg = LinearRegression()\n",
        "reg.fit(train_set, train_target)"
      ],
      "metadata": {
        "colab": {
          "base_uri": "https://localhost:8080/"
        },
        "id": "HICUMK376YBC",
        "outputId": "f7d20f8c-4459-48f2-e0b1-0e9d906fd10a"
      },
      "execution_count": 84,
      "outputs": [
        {
          "output_type": "execute_result",
          "data": {
            "text/plain": [
              "LinearRegression()"
            ]
          },
          "metadata": {},
          "execution_count": 84
        }
      ]
    },
    {
      "cell_type": "code",
      "source": [
        "pred = test_set.iloc[:10]\n",
        "actual = test_target.iloc[:10]\n",
        "print(\"Predicted Values:\", reg.predict(pred))\n",
        "print(\"Actual Values:\", list(actual))"
      ],
      "metadata": {
        "colab": {
          "base_uri": "https://localhost:8080/"
        },
        "id": "dsFa-Eh66dH1",
        "outputId": "4f25d014-c638-4f14-f389-411bcf387b65"
      },
      "execution_count": 85,
      "outputs": [
        {
          "output_type": "stream",
          "name": "stdout",
          "text": [
            "Predicted Values: [ 66749.46242209 146604.28770104 247536.71038641 262457.93947031\n",
            " 265753.5669513  156034.46702946 294963.7676628  227321.42917363\n",
            " 260022.07496552 404849.19348853]\n",
            "Actual Values: [47700.0, 45800.0, 500001.0, 218600.0, 278000.0, 158700.0, 198200.0, 157500.0, 340000.0, 446600.0]\n"
          ]
        }
      ]
    },
    {
      "cell_type": "code",
      "source": [
        "from sklearn.metrics import mean_squared_error\n",
        "prediction = reg.predict(pred)\n",
        "mse = mean_squared_error(actual,prediction)\n",
        "performance_2 = np.sqrt(mse)\n",
        "print(performance_2)"
      ],
      "metadata": {
        "colab": {
          "base_uri": "https://localhost:8080/"
        },
        "id": "VA4iL74G6fnZ",
        "outputId": "66171e23-f53b-47c5-9465-ad530daede9f"
      },
      "execution_count": 86,
      "outputs": [
        {
          "output_type": "stream",
          "name": "stdout",
          "text": [
            "99358.47223660622\n"
          ]
        }
      ]
    },
    {
      "cell_type": "markdown",
      "source": [
        "Training set size = 60%   Testing set size = 40%"
      ],
      "metadata": {
        "id": "fi__NncP7gaL"
      }
    },
    {
      "cell_type": "code",
      "source": [
        "from sklearn.model_selection import train_test_split\n",
        "train_set, test_set = train_test_split(df, test_size=0.4, random_state=42)"
      ],
      "metadata": {
        "id": "RwmXihJs7SpF"
      },
      "execution_count": 87,
      "outputs": []
    },
    {
      "cell_type": "code",
      "source": [
        "train_target = train_set['median_house_value'].copy()\n",
        "test_target = test_set['median_house_value'].copy()\n",
        "train_set.drop(['median_house_value'], axis=1, inplace=True)\n",
        "test_set.drop(['median_house_value'], axis=1, inplace=True)"
      ],
      "metadata": {
        "id": "V7Uw2PlN8ZaZ"
      },
      "execution_count": 88,
      "outputs": []
    },
    {
      "cell_type": "code",
      "source": [
        "from sklearn.linear_model import LinearRegression\n",
        "reg = LinearRegression()\n",
        "reg.fit(train_set, train_target)"
      ],
      "metadata": {
        "colab": {
          "base_uri": "https://localhost:8080/"
        },
        "id": "Xh2XgE5i8g9A",
        "outputId": "2de026fa-b210-42d3-b101-330ffa0b1232"
      },
      "execution_count": 89,
      "outputs": [
        {
          "output_type": "execute_result",
          "data": {
            "text/plain": [
              "LinearRegression()"
            ]
          },
          "metadata": {},
          "execution_count": 89
        }
      ]
    },
    {
      "cell_type": "code",
      "source": [
        "pred = test_set.iloc[:10]\n",
        "actual = test_target.iloc[:10]\n",
        "print(\"Predicted Values:\", reg.predict(pred))\n",
        "print(\"Actual Values:\", list(actual))"
      ],
      "metadata": {
        "colab": {
          "base_uri": "https://localhost:8080/"
        },
        "id": "fpCreVz18jdO",
        "outputId": "c89c32cc-2294-4b6a-8c6d-44e07716c480"
      },
      "execution_count": 90,
      "outputs": [
        {
          "output_type": "stream",
          "name": "stdout",
          "text": [
            "Predicted Values: [ 66802.77359111 145292.60151365 243851.17782399 261985.80484469\n",
            " 265542.68704122 153221.28300629 295825.83253352 227760.28679912\n",
            " 260472.57625509 404711.88545271]\n",
            "Actual Values: [47700.0, 45800.0, 500001.0, 218600.0, 278000.0, 158700.0, 198200.0, 157500.0, 340000.0, 446600.0]\n"
          ]
        }
      ]
    },
    {
      "cell_type": "code",
      "source": [
        "from sklearn.metrics import mean_squared_error\n",
        "prediction = reg.predict(pred)\n",
        "mse = mean_squared_error(actual,prediction)\n",
        "performance_3 = np.sqrt(mse)\n",
        "print(performance_3)"
      ],
      "metadata": {
        "colab": {
          "base_uri": "https://localhost:8080/"
        },
        "id": "QOLF1XBG8uIu",
        "outputId": "8a7eccd7-994f-4659-e0b8-c3c236375b7b"
      },
      "execution_count": 91,
      "outputs": [
        {
          "output_type": "stream",
          "name": "stdout",
          "text": [
            "100244.94526433074\n"
          ]
        }
      ]
    },
    {
      "cell_type": "markdown",
      "source": [
        "Training set size = 50%   Testing set size = 50%"
      ],
      "metadata": {
        "id": "ypmwL9aC86ou"
      }
    },
    {
      "cell_type": "code",
      "source": [
        "from sklearn.model_selection import train_test_split\n",
        "train_set, test_set = train_test_split(df, test_size=0.5, random_state=42)"
      ],
      "metadata": {
        "id": "BH9l-cQE8zrG"
      },
      "execution_count": 92,
      "outputs": []
    },
    {
      "cell_type": "code",
      "source": [
        "train_target = train_set['median_house_value'].copy()\n",
        "test_target = test_set['median_house_value'].copy()\n",
        "train_set.drop(['median_house_value'], axis=1, inplace=True)\n",
        "test_set.drop(['median_house_value'], axis=1, inplace=True)"
      ],
      "metadata": {
        "id": "Cl6aMwB48__q"
      },
      "execution_count": 93,
      "outputs": []
    },
    {
      "cell_type": "code",
      "source": [
        "from sklearn.linear_model import LinearRegression\n",
        "reg = LinearRegression()\n",
        "reg.fit(train_set, train_target)"
      ],
      "metadata": {
        "colab": {
          "base_uri": "https://localhost:8080/"
        },
        "id": "nQF_3nKT9KVw",
        "outputId": "1cf0da23-9ca5-46f6-c991-e773f4f3c738"
      },
      "execution_count": 94,
      "outputs": [
        {
          "output_type": "execute_result",
          "data": {
            "text/plain": [
              "LinearRegression()"
            ]
          },
          "metadata": {},
          "execution_count": 94
        }
      ]
    },
    {
      "cell_type": "code",
      "source": [
        "pred = test_set.iloc[:10]\n",
        "actual = test_target.iloc[:10]\n",
        "print(\"Predicted Values:\", reg.predict(pred))\n",
        "print(\"Actual Values:\", list(actual))"
      ],
      "metadata": {
        "colab": {
          "base_uri": "https://localhost:8080/"
        },
        "id": "_LXqcjrv9L-N",
        "outputId": "d61bfb0f-e245-407a-bab3-f394e8740907"
      },
      "execution_count": 95,
      "outputs": [
        {
          "output_type": "stream",
          "name": "stdout",
          "text": [
            "Predicted Values: [ 67767.13652477 144501.88364848 241331.44900894 261180.90246834\n",
            " 265050.31281973 151275.32127153 296511.33724695 228658.53952363\n",
            " 258902.51449411 405010.74442248]\n",
            "Actual Values: [47700.0, 45800.0, 500001.0, 218600.0, 278000.0, 158700.0, 198200.0, 157500.0, 340000.0, 446600.0]\n"
          ]
        }
      ]
    },
    {
      "cell_type": "code",
      "source": [
        "from sklearn.metrics import mean_squared_error\n",
        "prediction = reg.predict(pred)\n",
        "mse = mean_squared_error(actual,prediction)\n",
        "performance_4 = np.sqrt(mse)\n",
        "print(performance_4)"
      ],
      "metadata": {
        "colab": {
          "base_uri": "https://localhost:8080/"
        },
        "id": "ESX-b3gT9OdN",
        "outputId": "5fd81f7d-e232-492e-ad96-cdc88ba7797d"
      },
      "execution_count": 96,
      "outputs": [
        {
          "output_type": "stream",
          "name": "stdout",
          "text": [
            "101057.29416255458\n"
          ]
        }
      ]
    },
    {
      "cell_type": "markdown",
      "source": [
        "Training set size = 40%  Testing set size = 60%"
      ],
      "metadata": {
        "id": "EVsPAExP9YnT"
      }
    },
    {
      "cell_type": "code",
      "source": [
        "from sklearn.model_selection import train_test_split\n",
        "train_set, test_set = train_test_split(df, test_size=0.6, random_state=42)"
      ],
      "metadata": {
        "id": "BaLSws6e9W9O"
      },
      "execution_count": 99,
      "outputs": []
    },
    {
      "cell_type": "code",
      "source": [
        "train_target = train_set['median_house_value'].copy()\n",
        "test_target = test_set['median_house_value'].copy()\n",
        "train_set.drop(['median_house_value'], axis=1, inplace=True)\n",
        "test_set.drop(['median_house_value'], axis=1, inplace=True)"
      ],
      "metadata": {
        "id": "yyeyOeE59S1q"
      },
      "execution_count": 100,
      "outputs": []
    },
    {
      "cell_type": "code",
      "source": [
        "from sklearn.linear_model import LinearRegression\n",
        "reg = LinearRegression()\n",
        "reg.fit(train_set, train_target)"
      ],
      "metadata": {
        "colab": {
          "base_uri": "https://localhost:8080/"
        },
        "id": "oDdCRGA192QZ",
        "outputId": "477a62ba-966f-43e1-9846-c31975a71aa6"
      },
      "execution_count": 101,
      "outputs": [
        {
          "output_type": "execute_result",
          "data": {
            "text/plain": [
              "LinearRegression()"
            ]
          },
          "metadata": {},
          "execution_count": 101
        }
      ]
    },
    {
      "cell_type": "code",
      "source": [
        "pred = test_set.iloc[:10]\n",
        "actual = test_target.iloc[:10]\n",
        "print(\"Predicted Values:\", reg.predict(pred))\n",
        "print(\"Actual Values:\", list(actual))"
      ],
      "metadata": {
        "colab": {
          "base_uri": "https://localhost:8080/"
        },
        "id": "Wuwxgcdp94Dz",
        "outputId": "c14d007e-6efe-4052-c10b-2877024d731b"
      },
      "execution_count": 102,
      "outputs": [
        {
          "output_type": "stream",
          "name": "stdout",
          "text": [
            "Predicted Values: [ 69522.27834537 142060.50424614 234348.72903417 261467.32264824\n",
            " 262579.19864531 149124.09372727 298791.383789   230861.74904757\n",
            " 255488.14634503 407312.24020955]\n",
            "Actual Values: [47700.0, 45800.0, 500001.0, 218600.0, 278000.0, 158700.0, 198200.0, 157500.0, 340000.0, 446600.0]\n"
          ]
        }
      ]
    },
    {
      "cell_type": "code",
      "source": [
        "from sklearn.metrics import mean_squared_error\n",
        "prediction = reg.predict(pred)\n",
        "mse = mean_squared_error(actual,prediction)\n",
        "performance_5 = np.sqrt(mse)\n",
        "print(performance_5)"
      ],
      "metadata": {
        "colab": {
          "base_uri": "https://localhost:8080/"
        },
        "id": "6CZrD_BY96NI",
        "outputId": "42fea06e-a51c-464f-d713-94a0b90d9fe2"
      },
      "execution_count": 103,
      "outputs": [
        {
          "output_type": "stream",
          "name": "stdout",
          "text": [
            "103279.66218915342\n"
          ]
        }
      ]
    },
    {
      "cell_type": "markdown",
      "source": [
        "Training set size = 30%  Testing set size = 70%"
      ],
      "metadata": {
        "id": "K0Qs5Y1S9_L3"
      }
    },
    {
      "cell_type": "code",
      "source": [
        "from sklearn.model_selection import train_test_split\n",
        "train_set, test_set = train_test_split(df, test_size=0.7, random_state=42)"
      ],
      "metadata": {
        "id": "Xq_yAn-Q99Hv"
      },
      "execution_count": 104,
      "outputs": []
    },
    {
      "cell_type": "code",
      "source": [
        "train_target = train_set['median_house_value'].copy()\n",
        "test_target = test_set['median_house_value'].copy()\n",
        "train_set.drop(['median_house_value'], axis=1, inplace=True)\n",
        "test_set.drop(['median_house_value'], axis=1, inplace=True)"
      ],
      "metadata": {
        "id": "AreBlHaX-KRZ"
      },
      "execution_count": 105,
      "outputs": []
    },
    {
      "cell_type": "code",
      "source": [
        "from sklearn.linear_model import LinearRegression\n",
        "reg = LinearRegression()\n",
        "reg.fit(train_set, train_target)"
      ],
      "metadata": {
        "colab": {
          "base_uri": "https://localhost:8080/"
        },
        "id": "qROFCOEv-Lqf",
        "outputId": "5385d24b-9a61-49d2-b0a8-d02e76e14a4d"
      },
      "execution_count": 106,
      "outputs": [
        {
          "output_type": "execute_result",
          "data": {
            "text/plain": [
              "LinearRegression()"
            ]
          },
          "metadata": {},
          "execution_count": 106
        }
      ]
    },
    {
      "cell_type": "code",
      "source": [
        "pred = test_set.iloc[:10]\n",
        "actual = test_target.iloc[:10]\n",
        "print(\"Predicted Values:\", reg.predict(pred))\n",
        "print(\"Actual Values:\", list(actual))"
      ],
      "metadata": {
        "colab": {
          "base_uri": "https://localhost:8080/"
        },
        "id": "O33zrHEV-M_x",
        "outputId": "a33825d3-73a6-49e5-a579-6b64ea74070a"
      },
      "execution_count": 107,
      "outputs": [
        {
          "output_type": "stream",
          "name": "stdout",
          "text": [
            "Predicted Values: [ 71959.28735606 140031.73637833 227387.63573208 261311.25660431\n",
            " 261530.36346376 148849.7519044  298964.96514698 231073.30098567\n",
            " 253370.49658523 406832.63699237]\n",
            "Actual Values: [47700.0, 45800.0, 500001.0, 218600.0, 278000.0, 158700.0, 198200.0, 157500.0, 340000.0, 446600.0]\n"
          ]
        }
      ]
    },
    {
      "cell_type": "code",
      "source": [
        "from sklearn.metrics import mean_squared_error\n",
        "prediction = reg.predict(pred)\n",
        "mse = mean_squared_error(actual,prediction)\n",
        "performance_6 = np.sqrt(mse)\n",
        "print(performance_6)"
      ],
      "metadata": {
        "colab": {
          "base_uri": "https://localhost:8080/"
        },
        "id": "gHRk8jCK-dHq",
        "outputId": "d0afffc6-e20a-46d5-f8a7-13bb59a79488"
      },
      "execution_count": 108,
      "outputs": [
        {
          "output_type": "stream",
          "name": "stdout",
          "text": [
            "105181.47657203888\n"
          ]
        }
      ]
    },
    {
      "cell_type": "markdown",
      "source": [
        "Training set size = 20%  Testing set size = 80%"
      ],
      "metadata": {
        "id": "AppdxG_U-j-M"
      }
    },
    {
      "cell_type": "code",
      "source": [
        "from sklearn.model_selection import train_test_split\n",
        "train_set, test_set = train_test_split(df, test_size=0.8, random_state=42)"
      ],
      "metadata": {
        "id": "o9goM43Y-hGT"
      },
      "execution_count": 109,
      "outputs": []
    },
    {
      "cell_type": "code",
      "source": [
        "train_target = train_set['median_house_value'].copy()\n",
        "test_target = test_set['median_house_value'].copy()\n",
        "train_set.drop(['median_house_value'], axis=1, inplace=True)\n",
        "test_set.drop(['median_house_value'], axis=1, inplace=True)"
      ],
      "metadata": {
        "id": "NdYQ8XaQ_IHF"
      },
      "execution_count": 110,
      "outputs": []
    },
    {
      "cell_type": "code",
      "source": [
        "from sklearn.linear_model import LinearRegression\n",
        "reg = LinearRegression()\n",
        "reg.fit(train_set, train_target)"
      ],
      "metadata": {
        "colab": {
          "base_uri": "https://localhost:8080/"
        },
        "id": "_3ocKKt-_JyP",
        "outputId": "0fba6015-6720-4319-feb9-8ee451180561"
      },
      "execution_count": 111,
      "outputs": [
        {
          "output_type": "execute_result",
          "data": {
            "text/plain": [
              "LinearRegression()"
            ]
          },
          "metadata": {},
          "execution_count": 111
        }
      ]
    },
    {
      "cell_type": "code",
      "source": [
        "pred = test_set.iloc[:10]\n",
        "actual = test_target.iloc[:10]\n",
        "print(\"Predicted Values:\", reg.predict(pred))\n",
        "print(\"Actual Values:\", list(actual))"
      ],
      "metadata": {
        "colab": {
          "base_uri": "https://localhost:8080/"
        },
        "id": "ApLxaX-H_1zy",
        "outputId": "dfb93bde-9546-4362-bf53-48f498f33be0"
      },
      "execution_count": 112,
      "outputs": [
        {
          "output_type": "stream",
          "name": "stdout",
          "text": [
            "Predicted Values: [ 72957.86708687 141924.29751141 225626.32834536 262463.59023652\n",
            " 263895.19970088 148674.93007874 296561.91233471 230605.98518788\n",
            " 254306.8851364  403354.94811334]\n",
            "Actual Values: [47700.0, 45800.0, 500001.0, 218600.0, 278000.0, 158700.0, 198200.0, 157500.0, 340000.0, 446600.0]\n"
          ]
        }
      ]
    },
    {
      "cell_type": "code",
      "source": [
        "from sklearn.metrics import mean_squared_error\n",
        "prediction = reg.predict(pred)\n",
        "mse = mean_squared_error(actual,prediction)\n",
        "performance_7 = np.sqrt(mse)\n",
        "print(performance_7)"
      ],
      "metadata": {
        "colab": {
          "base_uri": "https://localhost:8080/"
        },
        "id": "BYmRxSo5_LT6",
        "outputId": "6d2c1893-8f43-4bf3-acd6-7f31cb5037be"
      },
      "execution_count": 113,
      "outputs": [
        {
          "output_type": "stream",
          "name": "stdout",
          "text": [
            "105648.35926336446\n"
          ]
        }
      ]
    },
    {
      "cell_type": "code",
      "source": [
        "all_performances = {'P1': '98491.82962477175', 'P2': '99358.47223660622', 'P3': '100244.94526433074', \n",
        "                    'P4': '101057.29416255458',  'P5': '103279.66218915342', 'P6': '105181.47657203888', 'P7': '105648.35926336446'}\n",
        "\n",
        "Perf = list(all_performances.keys())\n",
        "Val = list(all_performances.values())\n",
        "\n",
        "plt.bar(range(len(all_performances)), Val, tick_label=Perf)\n",
        "plt.show()"
      ],
      "metadata": {
        "colab": {
          "base_uri": "https://localhost:8080/",
          "height": 265
        },
        "id": "KPug30cB_td8",
        "outputId": "82f5123d-7d40-4fd7-a2e5-6f9f26d3dc88"
      },
      "execution_count": 117,
      "outputs": [
        {
          "output_type": "display_data",
          "data": {
            "text/plain": [
              "<Figure size 432x288 with 1 Axes>"
            ],
            "image/png": "[encoded data removed]"
          },
          "metadata": {
            "needs_background": "light"
          }
        }
      ]
    },
    {
      "cell_type": "code",
      "source": [
        ""
      ],
      "metadata": {
        "id": "s_Amy6ErG7ox"
      },
      "execution_count": null,
      "outputs": []
    }
  ]
}